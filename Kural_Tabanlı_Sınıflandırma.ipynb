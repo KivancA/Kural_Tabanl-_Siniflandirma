{
  "nbformat": 4,
  "nbformat_minor": 0,
  "metadata": {
    "colab": {
      "provenance": []
    },
    "kernelspec": {
      "name": "python3",
      "display_name": "Python 3"
    },
    "language_info": {
      "name": "python"
    }
  },
  "cells": [
    {
      "cell_type": "code",
      "execution_count": 8,
      "metadata": {
        "id": "0i2VQ5eCK-Tt",
        "colab": {
          "base_uri": "https://localhost:8080/"
        },
        "outputId": "a760234a-a7f1-456f-ab07-98c0b9ffc43a"
      },
      "outputs": [
        {
          "output_type": "stream",
          "name": "stdout",
          "text": [
            "<class 'pandas.core.frame.DataFrame'>\n",
            "Int64Index: 5000 entries, 0 to 4999\n",
            "Data columns (total 5 columns):\n",
            " #   Column   Non-Null Count  Dtype \n",
            "---  ------   --------------  ----- \n",
            " 0   PRICE    5000 non-null   int64 \n",
            " 1   SOURCE   5000 non-null   object\n",
            " 2   SEX      5000 non-null   object\n",
            " 3   COUNTRY  5000 non-null   object\n",
            " 4   AGE      5000 non-null   int64 \n",
            "dtypes: int64(2), object(3)\n",
            "memory usage: 234.4+ KB\n",
            "None\n"
          ]
        }
      ],
      "source": [
        "import pandas as pd\n",
        "##GÖREV1\n",
        "###§ Soru 1: persona.csv dosyasını okutunuz ve veri seti ile ilgili genel bilgileri gösteriniz.\n",
        "\n",
        "df = pd.read_csv('persona.csv')\n",
        "print(df.info())"
      ]
    },
    {
      "cell_type": "code",
      "source": [
        "###§ Soru 2: Kaç unique SOURCE vardır? Frekansları nedir?\n",
        "source_counts = df['SOURCE'].value_counts()\n",
        "\n",
        "print(\"Unique SOURCE sayısı:\", len(source_counts))\n",
        "print(\"\\nFrekansları:\")\n",
        "print(source_counts)"
      ],
      "metadata": {
        "colab": {
          "base_uri": "https://localhost:8080/"
        },
        "id": "hkivf11PPnhj",
        "outputId": "4827b638-d677-417d-c1d3-6110fa717c2d"
      },
      "execution_count": 10,
      "outputs": [
        {
          "output_type": "stream",
          "name": "stdout",
          "text": [
            "Unique SOURCE sayısı: 2\n",
            "\n",
            "Frekansları:\n",
            "android    2974\n",
            "ios        2026\n",
            "Name: SOURCE, dtype: int64\n"
          ]
        }
      ]
    },
    {
      "cell_type": "code",
      "source": [
        "###Kaç unique PRICE vardır\n",
        "unique_prices = df['PRICE'].nunique()\n",
        "\n",
        "print(\"Unique PRICE sayısı:\", unique_prices)"
      ],
      "metadata": {
        "colab": {
          "base_uri": "https://localhost:8080/"
        },
        "id": "-_B07kfWRuA8",
        "outputId": "2247dab0-2e11-444e-f1a5-5b5279e17505"
      },
      "execution_count": 11,
      "outputs": [
        {
          "output_type": "stream",
          "name": "stdout",
          "text": [
            "Unique PRICE sayısı: 6\n"
          ]
        }
      ]
    },
    {
      "cell_type": "code",
      "source": [
        "###§ Soru 4: Hangi PRICE'dan kaçar tane satış gerçekleşmiş?\n",
        "price_counts = df['PRICE'].value_counts()\n",
        "print(\"Satış sayıları:\")\n",
        "print(price_counts)"
      ],
      "metadata": {
        "colab": {
          "base_uri": "https://localhost:8080/"
        },
        "id": "PDc_kIQ2Scss",
        "outputId": "7f7fc202-bd33-46a2-b029-b7fa0bba20b2"
      },
      "execution_count": 12,
      "outputs": [
        {
          "output_type": "stream",
          "name": "stdout",
          "text": [
            "Satış sayıları:\n",
            "29    1305\n",
            "39    1260\n",
            "49    1031\n",
            "19     992\n",
            "59     212\n",
            "9      200\n",
            "Name: PRICE, dtype: int64\n"
          ]
        }
      ]
    },
    {
      "cell_type": "code",
      "source": [
        "###§ Soru 5: Hangi ülkeden kaçar tane satış olmuş?\n",
        "country_counts = df['COUNTRY'].value_counts()\n",
        "print(\"Ülke bazında satış sayıları:\")\n",
        "print(country_counts)"
      ],
      "metadata": {
        "colab": {
          "base_uri": "https://localhost:8080/"
        },
        "id": "HZqa-QzYSnOo",
        "outputId": "20d4f9b4-8fb8-4ad6-d1d4-91f83dca7895"
      },
      "execution_count": 13,
      "outputs": [
        {
          "output_type": "stream",
          "name": "stdout",
          "text": [
            "Ülke bazında satış sayıları:\n",
            "usa    2065\n",
            "bra    1496\n",
            "deu     455\n",
            "tur     451\n",
            "fra     303\n",
            "can     230\n",
            "Name: COUNTRY, dtype: int64\n"
          ]
        }
      ]
    },
    {
      "cell_type": "code",
      "source": [
        "###§ Soru 6: Ülkelere göre satışlardan toplam ne kadar kazanılmış?\n",
        "revenue_by_country = df.groupby('COUNTRY')['PRICE'].sum()\n",
        "print(\"Ülkelere göre toplam kazançlar:\")\n",
        "print(revenue_by_country)"
      ],
      "metadata": {
        "colab": {
          "base_uri": "https://localhost:8080/"
        },
        "id": "OmFqIFLwSv2u",
        "outputId": "86dcbd89-159e-4606-9184-283046e867c7"
      },
      "execution_count": 14,
      "outputs": [
        {
          "output_type": "stream",
          "name": "stdout",
          "text": [
            "Ülkelere göre toplam kazançlar:\n",
            "COUNTRY\n",
            "bra    51354\n",
            "can     7730\n",
            "deu    15485\n",
            "fra    10177\n",
            "tur    15689\n",
            "usa    70225\n",
            "Name: PRICE, dtype: int64\n"
          ]
        }
      ]
    },
    {
      "cell_type": "code",
      "source": [
        "###§ Soru 7: SOURCE türlerine göre satış sayıları nedir?\n",
        "sales_by_source = df['SOURCE'].value_counts()\n",
        "print(\"SOURCE türlerine göre satış sayıları:\")\n",
        "print(sales_by_source)"
      ],
      "metadata": {
        "colab": {
          "base_uri": "https://localhost:8080/"
        },
        "id": "JZeGQMebTFkQ",
        "outputId": "80403670-a330-4331-dda3-d9896b86710b"
      },
      "execution_count": 15,
      "outputs": [
        {
          "output_type": "stream",
          "name": "stdout",
          "text": [
            "SOURCE türlerine göre satış sayıları:\n",
            "android    2974\n",
            "ios        2026\n",
            "Name: SOURCE, dtype: int64\n"
          ]
        }
      ]
    },
    {
      "cell_type": "code",
      "source": [
        "###§ Soru 8: Ülkelere göre PRICE ortalamaları nedir?\n",
        "average_price_by_country = df.groupby('COUNTRY')['PRICE'].mean()\n",
        "print(\"Ülkelere göre PRICE (fiyat) ortalamaları:\")\n",
        "print(average_price_by_country)"
      ],
      "metadata": {
        "colab": {
          "base_uri": "https://localhost:8080/"
        },
        "id": "WjR-B0YiTRpa",
        "outputId": "9766df04-17da-408d-c9e1-5a00ef752808"
      },
      "execution_count": 16,
      "outputs": [
        {
          "output_type": "stream",
          "name": "stdout",
          "text": [
            "Ülkelere göre PRICE (fiyat) ortalamaları:\n",
            "COUNTRY\n",
            "bra    34.327540\n",
            "can    33.608696\n",
            "deu    34.032967\n",
            "fra    33.587459\n",
            "tur    34.787140\n",
            "usa    34.007264\n",
            "Name: PRICE, dtype: float64\n"
          ]
        }
      ]
    },
    {
      "cell_type": "code",
      "source": [
        "###§ Soru 9: SOURCE'lara göre PRICE ortalamaları nedir?\n",
        "average_price_by_source = df.groupby('SOURCE')['PRICE'].mean()\n",
        "print(\"SOURCE'lara göre PRICE (fiyat) ortalamaları:\")\n",
        "print(average_price_by_source)"
      ],
      "metadata": {
        "colab": {
          "base_uri": "https://localhost:8080/"
        },
        "id": "e7FeNf_OTkHm",
        "outputId": "0882289c-fc8f-4ab5-88ab-b91a3822ff42"
      },
      "execution_count": 17,
      "outputs": [
        {
          "output_type": "stream",
          "name": "stdout",
          "text": [
            "SOURCE'lara göre PRICE (fiyat) ortalamaları:\n",
            "SOURCE\n",
            "android    34.174849\n",
            "ios        34.069102\n",
            "Name: PRICE, dtype: float64\n"
          ]
        }
      ]
    },
    {
      "cell_type": "code",
      "source": [],
      "metadata": {
        "id": "VLBYvBMrTtRt"
      },
      "execution_count": null,
      "outputs": []
    },
    {
      "cell_type": "code",
      "source": [
        "###§ Soru 10: COUNTRY-SOURCE kırılımında PRICE ortalamaları nedir?\n",
        "average_price_by_country_source = df.groupby(['COUNTRY', 'SOURCE'])['PRICE'].mean()\n",
        "print(\"COUNTRY-SOURCE kırılımında PRICE (fiyat) ortalamaları:\")\n",
        "print(average_price_by_country_source)"
      ],
      "metadata": {
        "colab": {
          "base_uri": "https://localhost:8080/"
        },
        "id": "7Al8pgxATtc0",
        "outputId": "a7ebbef2-7936-4845-ec6f-78214a591266"
      },
      "execution_count": 18,
      "outputs": [
        {
          "output_type": "stream",
          "name": "stdout",
          "text": [
            "COUNTRY-SOURCE kırılımında PRICE (fiyat) ortalamaları:\n",
            "COUNTRY  SOURCE \n",
            "bra      android    34.387029\n",
            "         ios        34.222222\n",
            "can      android    33.330709\n",
            "         ios        33.951456\n",
            "deu      android    33.869888\n",
            "         ios        34.268817\n",
            "fra      android    34.312500\n",
            "         ios        32.776224\n",
            "tur      android    36.229437\n",
            "         ios        33.272727\n",
            "usa      android    33.760357\n",
            "         ios        34.371703\n",
            "Name: PRICE, dtype: float64\n"
          ]
        }
      ]
    },
    {
      "cell_type": "code",
      "source": [
        "###Görev 2: COUNTRY, SOURCE, SEX, AGE kırılımında ortalama kazançlar nedir\n",
        "average_earnings_by_countrysourcesexage = df.groupby(['COUNTRY', 'SOURCE', 'SEX', 'AGE'])['PRICE'].mean()\n",
        "\n",
        "print(\"COUNTRY, SOURCE, SEX, AGE kırılımında ortalama kazançlar:\")\n",
        "print(average_earnings_by_countrysourcesexage)"
      ],
      "metadata": {
        "colab": {
          "base_uri": "https://localhost:8080/"
        },
        "id": "6fhtDNogT7ww",
        "outputId": "70847a06-b820-4b5c-94ee-c4cfcea92539"
      },
      "execution_count": 19,
      "outputs": [
        {
          "output_type": "stream",
          "name": "stdout",
          "text": [
            "COUNTRY, SOURCE, SEX, AGE kırılımında ortalama kazançlar:\n",
            "COUNTRY  SOURCE   SEX     AGE\n",
            "bra      android  female  15     38.714286\n",
            "                          16     35.944444\n",
            "                          17     35.666667\n",
            "                          18     32.255814\n",
            "                          19     35.206897\n",
            "                                   ...    \n",
            "usa      ios      male    42     30.250000\n",
            "                          50     39.000000\n",
            "                          53     34.000000\n",
            "                          55     29.000000\n",
            "                          59     46.500000\n",
            "Name: PRICE, Length: 348, dtype: float64\n"
          ]
        }
      ]
    },
    {
      "cell_type": "code",
      "source": [
        "###Görev 3: Çıktıyı PRICE’a göre sıralayınız.\n",
        "###• Önceki sorudaki çıktıyı daha iyi görebilmek için sort_values metodunu azalan olacak şekilde PRICE’a göre uygulayınız.\n",
        "###• Çıktıyı agg_df olarak kaydediniz.\n",
        "average_earnings_by_countrysourcesexage = df.groupby(['COUNTRY', 'SOURCE', 'SEX', 'AGE'])['PRICE'].mean()\n",
        "agg_df = average_earnings_by_countrysourcesexage.sort_values(ascending=False)\n",
        "print(\"COUNTRY, SOURCE, SEX, AGE kırılımında ortalama kazançlar (azalan sıralı):\")\n",
        "print(agg_df)"
      ],
      "metadata": {
        "colab": {
          "base_uri": "https://localhost:8080/"
        },
        "id": "d8tOC0zLUF6p",
        "outputId": "501429b3-931a-4f61-f175-81bbb55c988c"
      },
      "execution_count": 20,
      "outputs": [
        {
          "output_type": "stream",
          "name": "stdout",
          "text": [
            "COUNTRY, SOURCE, SEX, AGE kırılımında ortalama kazançlar (azalan sıralı):\n",
            "COUNTRY  SOURCE   SEX     AGE\n",
            "bra      android  male    46     59.0\n",
            "usa      android  male    36     59.0\n",
            "fra      android  female  24     59.0\n",
            "usa      ios      male    32     54.0\n",
            "deu      android  female  36     49.0\n",
            "                                 ... \n",
            "usa      ios      female  38     19.0\n",
            "                          30     19.0\n",
            "can      android  female  27     19.0\n",
            "fra      android  male    18     19.0\n",
            "deu      android  male    26      9.0\n",
            "Name: PRICE, Length: 348, dtype: float64\n"
          ]
        }
      ]
    },
    {
      "cell_type": "code",
      "source": [
        "###Görev 4: Indekste yer alan isimleri değişken ismine çeviriniz.\n",
        "###• Üçüncü sorunun çıktısında yer alan PRICE dışındaki tüm değişkenler index isimleridir. Bu isimleri değişken isimlerine çeviriniz.\n",
        "average_earnings_by_countrysourcesexage = df.groupby(['COUNTRY', 'SOURCE', 'SEX', 'AGE'])['PRICE'].mean()\n",
        "agg_df = average_earnings_by_countrysourcesexage.sort_values(ascending=False)\n",
        "agg_df = agg_df.reset_index()\n",
        "print(\"COUNTRY, SOURCE, SEX, AGE kırılımında ortalama kazançlar (azalan sıralı):\")\n",
        "print(agg_df)"
      ],
      "metadata": {
        "colab": {
          "base_uri": "https://localhost:8080/"
        },
        "id": "LXeaWEhnUpi4",
        "outputId": "662dd2a5-e5b8-457f-decd-192f317ade42"
      },
      "execution_count": 21,
      "outputs": [
        {
          "output_type": "stream",
          "name": "stdout",
          "text": [
            "COUNTRY, SOURCE, SEX, AGE kırılımında ortalama kazançlar (azalan sıralı):\n",
            "    COUNTRY   SOURCE     SEX  AGE  PRICE\n",
            "0       bra  android    male   46   59.0\n",
            "1       usa  android    male   36   59.0\n",
            "2       fra  android  female   24   59.0\n",
            "3       usa      ios    male   32   54.0\n",
            "4       deu  android  female   36   49.0\n",
            "..      ...      ...     ...  ...    ...\n",
            "343     usa      ios  female   38   19.0\n",
            "344     usa      ios  female   30   19.0\n",
            "345     can  android  female   27   19.0\n",
            "346     fra  android    male   18   19.0\n",
            "347     deu  android    male   26    9.0\n",
            "\n",
            "[348 rows x 5 columns]\n"
          ]
        }
      ]
    },
    {
      "cell_type": "code",
      "source": [
        "###Görev 5: Age değişkenini kategorik değişkene çeviriniz ve agg_df’e ekleyiniz.\n",
        "###• Age sayısal değişkenini kategorik değişkene çeviriniz.\n",
        "###• Aralıkları ikna edici şekilde oluşturunuz.\n",
        "###• Örneğin: ‘0_18', ‘19_23', '24_30', '31_40', '41_70'\n",
        "average_earnings_by_countrysourcesexage = df.groupby(['COUNTRY', 'SOURCE', 'SEX', 'AGE'])['PRICE'].mean()\n",
        "agg_df = average_earnings_by_countrysourcesexage.sort_values(ascending=False)\n",
        "agg_df = agg_df.reset_index()\n",
        "bins = [0, 18, 23, 30, 40, 70]\n",
        "labels = ['0_18', '19_23', '24_30', '31_40', '41_70']\n",
        "agg_df['AGE_GROUP'] = pd.cut(agg_df['AGE'], bins=bins, labels=labels, right=False)\n",
        "agg_df.drop(columns=['AGE'], inplace=True)\n",
        "print(\"COUNTRY, SOURCE, SEX, AGE_GROUP kırılımında ortalama kazançlar (azalan sıralı):\")\n",
        "print(agg_df)"
      ],
      "metadata": {
        "colab": {
          "base_uri": "https://localhost:8080/"
        },
        "id": "wai328J5U5MC",
        "outputId": "066d51fa-0939-406a-b422-ec2d35436886"
      },
      "execution_count": 22,
      "outputs": [
        {
          "output_type": "stream",
          "name": "stdout",
          "text": [
            "COUNTRY, SOURCE, SEX, AGE_GROUP kırılımında ortalama kazançlar (azalan sıralı):\n",
            "    COUNTRY   SOURCE     SEX  PRICE AGE_GROUP\n",
            "0       bra  android    male   59.0     41_70\n",
            "1       usa  android    male   59.0     31_40\n",
            "2       fra  android  female   59.0     24_30\n",
            "3       usa      ios    male   54.0     31_40\n",
            "4       deu  android  female   49.0     31_40\n",
            "..      ...      ...     ...    ...       ...\n",
            "343     usa      ios  female   19.0     31_40\n",
            "344     usa      ios  female   19.0     31_40\n",
            "345     can  android  female   19.0     24_30\n",
            "346     fra  android    male   19.0     19_23\n",
            "347     deu  android    male    9.0     24_30\n",
            "\n",
            "[348 rows x 5 columns]\n"
          ]
        }
      ]
    },
    {
      "cell_type": "code",
      "source": [
        "###Görev 6: Yeni seviye tabanlı müşterileri (persona) tanımlayınız.\n",
        "###• Yeni seviye tabanlı müşterileri (persona) tanımlayınız ve veri setine değişken olarak ekleyiniz.\n",
        "###• Yeni eklenecek değişkenin adı: customers_level_based\n",
        "###• Önceki soruda elde edeceğiniz çıktıdaki gözlemleri bir araya getirerek customers_level_based değişkenini oluşturmanız gerekmektedi\n",
        "average_earnings_by_countrysourcesexage = df.groupby(['COUNTRY', 'SOURCE', 'SEX', 'AGE'])['PRICE'].mean()\n",
        "# \"customers_level_based\" adlı yeni değişkeni oluşturuyoruz\n",
        "agg_df['customers_level_based'] = agg_df['COUNTRY'].astype(str) + '_' + agg_df['SOURCE'].astype(str) + '_' + agg_df['SEX'].astype(str) + '_' + agg_df['AGE_GROUP'].astype(str)\n",
        "print(\"customers_level_based değişkeni oluşturuldu:\")\n",
        "print(agg_df)"
      ],
      "metadata": {
        "colab": {
          "base_uri": "https://localhost:8080/"
        },
        "id": "iKqdmEhtVUlX",
        "outputId": "2fd5e0eb-0602-4707-d644-d120906d78ba"
      },
      "execution_count": 28,
      "outputs": [
        {
          "output_type": "stream",
          "name": "stdout",
          "text": [
            "customers_level_based değişkeni oluşturuldu:\n",
            "    COUNTRY   SOURCE     SEX  PRICE AGE_GROUP     customers_level_based\n",
            "0       bra  android    male   59.0     41_70    bra_android_male_41_70\n",
            "1       usa  android    male   59.0     31_40    usa_android_male_31_40\n",
            "2       fra  android  female   59.0     24_30  fra_android_female_24_30\n",
            "3       usa      ios    male   54.0     31_40        usa_ios_male_31_40\n",
            "4       deu  android  female   49.0     31_40  deu_android_female_31_40\n",
            "..      ...      ...     ...    ...       ...                       ...\n",
            "343     usa      ios  female   19.0     31_40      usa_ios_female_31_40\n",
            "344     usa      ios  female   19.0     31_40      usa_ios_female_31_40\n",
            "345     can  android  female   19.0     24_30  can_android_female_24_30\n",
            "346     fra  android    male   19.0     19_23    fra_android_male_19_23\n",
            "347     deu  android    male    9.0     24_30    deu_android_male_24_30\n",
            "\n",
            "[348 rows x 6 columns]\n"
          ]
        }
      ]
    },
    {
      "cell_type": "code",
      "source": [
        "###Görev 7:  Yeni müşterileri (personaları) segmentlereayırınız.•Yeni müşterileri (Örnek: USA_ANDROID_MALE_0_18) PRICE’agöre 4 segmenteayırınız.•SegmentleriSEGMENTisimlendirmesi ile değişken olarak agg_df’eekleyiniz.•Segmentleribetimleyiniz (Segmentleregöre groupbyyapıp pricemean, max, sum’larınıalınız).\n",
        "segment_labels = ['SEGMENT_1', 'SEGMENT_2', 'SEGMENT_3', 'SEGMENT_4']\n",
        "agg_df['SEGMENT'] = pd.qcut(agg_df['PRICE'], q=4, labels=segment_labels)\n",
        "segment_stats = agg_df.groupby('SEGMENT')['PRICE'].agg(['mean', 'max', 'sum'])\n",
        "print(\"Segmentlere göre istatistikler:\")\n",
        "print(segment_stats)\n"
      ],
      "metadata": {
        "colab": {
          "base_uri": "https://localhost:8080/"
        },
        "id": "vgkWUAAbV6W8",
        "outputId": "eb0067bf-4b12-442b-ac9b-0c8f632b2af9"
      },
      "execution_count": 29,
      "outputs": [
        {
          "output_type": "stream",
          "name": "stdout",
          "text": [
            "Segmentlere göre istatistikler:\n",
            "                mean        max          sum\n",
            "SEGMENT                                     \n",
            "SEGMENT_1  27.302596  31.105263  2375.325850\n",
            "SEGMENT_2  32.933339  34.000000  3128.667165\n",
            "SEGMENT_3  35.436170  37.000000  2870.329792\n",
            "SEGMENT_4  41.434736  59.000000  3521.952577\n"
          ]
        }
      ]
    },
    {
      "cell_type": "code",
      "source": [
        "age_group_turkish_female_android = agg_df[(agg_df['AGE_GROUP'] == '31_40') & (agg_df['SOURCE'] == 'ANDROID') & (agg_df['COUNTRY'] == 'TUR') & (agg_df['SEX'] == 'FEMALE')]\n",
        "if not age_group_turkish_female_android.empty:\n",
        "    segment_turkish_female_android = age_group_turkish_female_android['SEGMENT'].iloc[0]\n",
        "    average_income_turkish_female_android = age_group_turkish_female_android['PRICE'].mean()\n",
        "    print(\"33 yaşında ANDROID kullanan bir Türk kadını segmente aittir:\", segment_turkish_female_android)\n",
        "    print(\"Ortalama gelir kazandırması beklenen miktar:\", average_income_turkish_female_android)\n",
        "else:\n",
        "    print(\"33 yaşında ANDROID kullanan bir Türk kadını için uygun segment bulunamadı.\")\n",
        "\n",
        "# 35 yaşında IOS kullanan bir Fransız kadının segmentini ve ortalama gelir kazandırması beklenen miktarı tahmin edelim\n",
        "age_group_french_female_ios = agg_df[(agg_df['AGE_GROUP'] == '31_40') & (agg_df['SOURCE'] == 'IOS') & (agg_df['COUNTRY'] == 'FRA') & (agg_df['SEX'] == 'FEMALE')]\n",
        "if not age_group_french_female_ios.empty:\n",
        "    segment_french_female_ios = age_group_french_female_ios['SEGMENT'].iloc[0]\n",
        "    average_income_french_female_ios = age_group_french_female_ios['PRICE'].mean()\n",
        "    print(\"35 yaşında IOS kullanan bir Fransız kadını segmente aittir:\", segment_french_female_ios)\n",
        "    print(\"Ortalama gelir kazandırması beklenen miktar:\", average_income_french_female_ios)\n",
        "else:\n",
        "    print(\"35 yaşında IOS kullanan bir Fransız kadını için uygun segment bulunamadı.\")"
      ],
      "metadata": {
        "colab": {
          "base_uri": "https://localhost:8080/"
        },
        "id": "Ck-mO3cXXXHm",
        "outputId": "eab0362c-f83e-4db0-9410-9160260f9681"
      },
      "execution_count": 33,
      "outputs": [
        {
          "output_type": "stream",
          "name": "stdout",
          "text": [
            "33 yaşında ANDROID kullanan bir Türk kadını için uygun segment bulunamadı.\n",
            "35 yaşında IOS kullanan bir Fransız kadını için uygun segment bulunamadı.\n"
          ]
        }
      ]
    }
  ]
}